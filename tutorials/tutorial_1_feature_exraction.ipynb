{
 "cells": [
  {
   "attachments": {},
   "cell_type": "markdown",
   "metadata": {},
   "source": [
    "# Feature extraction from ambient seismic field\n",
    "\n",
    "\n",
    "This tutorial will give examples on how to extract features from ambient field data. We will ue"
   ]
  },
  {
   "cell_type": "code",
   "execution_count": null,
   "metadata": {},
   "outputs": [],
   "source": [
    "import numpy as np\n",
    "# import pandas as pd\n",
    "\n",
    "# import warnings\n",
    "# warnings.simplefilter(\"ignore\")\n",
    "\n",
    "# seismic packages\n",
    "import obspy\n",
    "from obspy.clients.fdsn.client import Client \n",
    "from obspy.geodetics.base import gps2dist_azimuth\n",
    "client=Client(\"IRIS\")\n",
    "\n",
    "\n",
    "# plotting packages\n",
    "import matplotlib \n",
    "import matplotlib.pyplot as plt\n",
    "matplotlib.rc('xtick', labelsize=12) \n",
    "matplotlib.rc('ytick', labelsize=12) \n",
    "# %matplotlib notebook\n",
    "\n",
    "matplotlib.rc('font', size=12) \n",
    "matplotlib.rc('font', size=12) \n",
    "\n",
    "# scipy for seismic data processing\n",
    "import scipy as sc\n",
    "from scipy import signal\n",
    "\n",
    "\n",
    "# feature extraction packages\n",
    "import tsfel\n",
    "import seis_feature     # this is a compilation\n"
   ]
  },
  {
   "attachments": {},
   "cell_type": "markdown",
   "metadata": {},
   "source": [
    "First, we will download noise data using obspy. Let's pick an interesting station for noise."
   ]
  },
  {
   "cell_type": "code",
   "execution_count": null,
   "metadata": {},
   "outputs": [],
   "source": [
    "t0 = obspy.UTCDateTime(\"2022-12-20\")\n",
    "tr=client.get_waveforms(network=\"UW\",station=\"HSR\",channel=\"HHZ\",location=\"*\",starttime=t0,endtime=t0+86400,attach_response=True);\n",
    "# tr.remove_response()\n",
    "tr.plot() \n",
    "fs=tr[0].stats.sampling_rate\n",
    "print(fs)\n",
    "     "
   ]
  },
  {
   "attachments": {},
   "cell_type": "markdown",
   "metadata": {},
   "source": [
    "The data looks quite noisy with no apparent change in the amplitudes.  We will proceed with increasing complexity in the features.  \n",
    "## 1. Fourier Transform"
   ]
  },
  {
   "cell_type": "code",
   "execution_count": null,
   "metadata": {},
   "outputs": [],
   "source": [
    "from scipy.fftpack import fft, ifft, fftfreq, next_fast_len\n",
    "\n",
    "npts = tr[0].stats.npts\n",
    "## FFT the signals\n",
    "# fill up until 2^N value to speed up the FFT\n",
    "Nfft = next_fast_len(int(tr[0].data.shape[0])) # this will be an even number\n",
    "freqVec = fftfreq(Nfft, d=tr[0].stats.delta)[:Nfft//2]\n",
    "tr.taper(max_percentage=0.05)\n",
    "Zhat = fft(tr[0].data,n=Nfft)#/np.sqrt(Z[0].stats.npts)"
   ]
  },
  {
   "attachments": {},
   "cell_type": "markdown",
   "metadata": {},
   "source": [
    "plotting"
   ]
  },
  {
   "cell_type": "code",
   "execution_count": null,
   "metadata": {},
   "outputs": [],
   "source": [
    "fig,ax=plt.subplots(1,1,figsize=(11,8))\n",
    "ax.plot(freqVec,np.abs(Zhat[:Nfft//2])/Nfft)\n",
    "ax.grid(True)\n",
    "ax.set_xscale('log');ax.set_yscale('log')\n",
    "ax.set_xlabel('Frequency (Hz)');ax.set_ylabel('Velocity spectrum (m/s)')"
   ]
  },
  {
   "attachments": {},
   "cell_type": "markdown",
   "metadata": {},
   "source": [
    "## 2. Spectrogram"
   ]
  },
  {
   "cell_type": "code",
   "execution_count": null,
   "metadata": {},
   "outputs": [],
   "source": [
    "f, t, Sxx = signal.spectrogram(tr[0].data, fs = tr[0].stats.sampling_rate,nperseg=40*256)\n",
    "plt.pcolormesh(t/3600, f,np.log10(Sxx),vmin=-2,vmax=3,cmap=\"turbo\")\n",
    "plt.ylabel('Frequency [Hz]')\n",
    "plt.xlabel('Time [hours]')\n",
    "plt.yscale('log')\n",
    "plt.ylim([0.1,50])\n",
    "plt.show()"
   ]
  },
  {
   "attachments": {},
   "cell_type": "markdown",
   "metadata": {},
   "source": [
    "## 3. Features used in event detections\n",
    "\n",
    "1. STA/LTA to detect earthquakes (at almost all seismic networks)\n",
    "2. Kurtosis to detect earthquakes (at several seismic networks)"
   ]
  },
  {
   "cell_type": "code",
   "execution_count": null,
   "metadata": {},
   "outputs": [],
   "source": [
    "from obspy.signal.trigger import classic_sta_lta, plot_trigger, recursive_sta_lta\n",
    "\n",
    "# short time scale:\n",
    "sta = 5 # seconds\n",
    "lta = 100 # seconds\n",
    "cft = recursive_sta_lta(tr[0].data, int(sta * fs), int(lta * fs))\n",
    "plot_trigger(tr[0], cft, 1.5, 0.5)"
   ]
  },
  {
   "cell_type": "code",
   "execution_count": null,
   "metadata": {},
   "outputs": [],
   "source": [
    "from obspy.realtime.signal import kurtosis\n",
    "z=kurtosis(tr[0])\n",
    "plt.plot(z)\n",
    "plt.show()"
   ]
  },
  {
   "attachments": {},
   "cell_type": "markdown",
   "metadata": {},
   "source": [
    "## extract features using tsfel\n",
    "\n",
    "TSFEL is an open-source package"
   ]
  },
  {
   "cell_type": "code",
   "execution_count": null,
   "metadata": {},
   "outputs": [],
   "source": [
    "cfg = tsfel.get_features_by_domain()\n",
    "df = tsfel.time_series_features_extractor(cfg, tr[0].data[:100*100], fs= tr[0].stats.sampling_rate, window_size=len(tr[0].data)) "
   ]
  }
 ],
 "metadata": {
  "kernelspec": {
   "display_name": "Python 3",
   "language": "python",
   "name": "python3"
  },
  "language_info": {
   "codemirror_mode": {
    "name": "ipython",
    "version": 3
   },
   "file_extension": ".py",
   "mimetype": "text/x-python",
   "name": "python",
   "nbconvert_exporter": "python",
   "pygments_lexer": "ipython3",
   "version": "3.9.16"
  },
  "orig_nbformat": 4
 },
 "nbformat": 4,
 "nbformat_minor": 2
}
