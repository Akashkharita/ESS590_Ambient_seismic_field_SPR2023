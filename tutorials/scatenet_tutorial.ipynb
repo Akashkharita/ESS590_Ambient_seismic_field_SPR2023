{
 "cells": [
  {
   "cell_type": "markdown",
   "id": "fa1efd8d",
   "metadata": {},
   "source": [
    "# Scatering Network for Seismology\n",
    "\n",
    "This notebook reproduces the tutorials from the SCATSEISNET package.\n",
    "\n",
    "the package is ultra minimal. I needed the following installation commands to make it work\n",
    "```bash\n",
    "conda create -n scatnetseis python=3.8 pip\n",
    "conda activate scatnetseis\n",
    "pip install matplotlib\n",
    "pip install scatnetseis\n",
    "pip install jupyter\n",
    "pip install obspy\n",
    "python -m ipykernel install --user --name scatnetseis\n",
    "```\n",
    "After that you can start a jupyter notebook."
   ]
  },
  {
   "cell_type": "code",
   "execution_count": 1,
   "id": "04de861c",
   "metadata": {},
   "outputs": [
    {
     "ename": "ModuleNotFoundError",
     "evalue": "No module named 'sklearn'",
     "output_type": "error",
     "traceback": [
      "\u001b[0;31m---------------------------------------------------------------------------\u001b[0m",
      "\u001b[0;31mModuleNotFoundError\u001b[0m                       Traceback (most recent call last)",
      "Cell \u001b[0;32mIn[1], line 10\u001b[0m\n\u001b[1;32m      8\u001b[0m \u001b[38;5;28;01mimport\u001b[39;00m \u001b[38;5;21;01mobspy\u001b[39;00m\n\u001b[1;32m      9\u001b[0m \u001b[38;5;28;01mfrom\u001b[39;00m \u001b[38;5;21;01mobspy\u001b[39;00m\u001b[38;5;21;01m.\u001b[39;00m\u001b[38;5;21;01mclients\u001b[39;00m\u001b[38;5;21;01m.\u001b[39;00m\u001b[38;5;21;01mfdsn\u001b[39;00m\u001b[38;5;21;01m.\u001b[39;00m\u001b[38;5;21;01mclient\u001b[39;00m \u001b[38;5;28;01mimport\u001b[39;00m Client \n\u001b[0;32m---> 10\u001b[0m \u001b[38;5;28;01mimport\u001b[39;00m \u001b[38;5;21;01msklearn\u001b[39;00m\n\u001b[1;32m     11\u001b[0m \u001b[38;5;28;01mfrom\u001b[39;00m \u001b[38;5;21;01msklearn\u001b[39;00m\u001b[38;5;21;01m.\u001b[39;00m\u001b[38;5;21;01mdecomposition\u001b[39;00m \u001b[38;5;28;01mimport\u001b[39;00m FastICA\n\u001b[1;32m     13\u001b[0m \u001b[38;5;28;01mfrom\u001b[39;00m \u001b[38;5;21;01mscatseisnet\u001b[39;00m \u001b[38;5;28;01mimport\u001b[39;00m ScatteringNetwork\n",
      "\u001b[0;31mModuleNotFoundError\u001b[0m: No module named 'sklearn'"
     ]
    }
   ],
   "source": [
    "import os\n",
    "import pickle\n",
    "\n",
    "import matplotlib.pyplot as plt\n",
    "import matplotlib.dates as mdates\n",
    "\n",
    "import numpy as np\n",
    "import obspy\n",
    "from obspy.clients.fdsn.client import Client \n",
    "import sklearn\n",
    "from sklearn.decomposition import FastICA\n",
    "\n",
    "from scatseisnet import ScatteringNetwork\n",
    "%config InlineBackend.figure_format = \"svg\""
   ]
  },
  {
   "cell_type": "markdown",
   "id": "8d0a294d",
   "metadata": {},
   "source": [
    "### Scattering network parameters\n",
    "\n",
    "Copy pasted from the github:\n",
    "\n",
    "the number of octaves ( J, int) covered by the filter banks per layer. This defines the frequency range of analysis of the input data, from the Nyquist frequency fn down to fn/2^J , and should be decided according to the frequency range of interest for the task.\n",
    "\n",
    "the resolution ( Q, int) represents the number of wavelets for each octave, so the frequency resolution of the filterbank. This should be large for the first layer (dense) and small for the other layers (sparse), as indicated in Andén and Mallat (2014).\n",
    "\n",
    "the quality factor (float) is the ratio between the center frequency of every wavelet and the bandwidth. Because we work with constant-Q filters, this is defined from the entire filter bank. The lower the quality factor, the more redundant the information in the scattering coefficients. We suggest using a quality factor 1 at the first layer, and a larger at the remaining layers."
   ]
  },
  {
   "cell_type": "code",
   "execution_count": null,
   "id": "999d302c",
   "metadata": {},
   "outputs": [],
   "source": [
    "segment_duration_seconds = 20.0\n",
    "sampling_rate_hertz = 50.0\n",
    "samples_per_segment = int(segment_duration_seconds * sampling_rate_hertz)\n",
    "# the network will have 2 layers\n",
    "bank_keyword_arguments = (\n",
    "    {\"octaves\": 4, \"resolution\": 4, \"quality\": 1},\n",
    "    {\"octaves\": 5, \"resolution\": 2, \"quality\": 3},\n",
    ")"
   ]
  },
  {
   "cell_type": "markdown",
   "id": "4e742add",
   "metadata": {},
   "source": [
    "### Create scatnet"
   ]
  },
  {
   "cell_type": "code",
   "execution_count": null,
   "id": "f8228da3",
   "metadata": {},
   "outputs": [],
   "source": [
    "network = ScatteringNetwork(\n",
    "    *bank_keyword_arguments,\n",
    "    bins=samples_per_segment,\n",
    "    sampling_rate=sampling_rate_hertz,\n",
    ")\n",
    "\n",
    "print(network)"
   ]
  },
  {
   "cell_type": "code",
   "execution_count": null,
   "id": "8bee273e",
   "metadata": {},
   "outputs": [],
   "source": [
    "dirpath_save = \"./example\"\n",
    "\n",
    "# Create directory to save the results\n",
    "os.makedirs(dirpath_save, exist_ok=True)\n",
    "\n",
    "# Save the scattering network with Pickle\n",
    "filepath_save = os.path.join(dirpath_save, \"scattering_network.pickle\")\n",
    "with open(filepath_save, \"wb\") as file_save:\n",
    "    pickle.dump(network, file_save, protocol=pickle.HIGHEST_PROTOCOL)"
   ]
  },
  {
   "cell_type": "markdown",
   "id": "fab07ff0",
   "metadata": {},
   "source": [
    "Visualize the filter bank"
   ]
  },
  {
   "cell_type": "code",
   "execution_count": null,
   "id": "650450cc",
   "metadata": {},
   "outputs": [],
   "source": [
    "for bank in network.banks:\n",
    "\n",
    "    # Create axes (left for temporal, right for spectral domain)\n",
    "    fig, ax = plt.subplots(1, 2, sharey=True)\n",
    "\n",
    "    # Show each wavelet\n",
    "    for wavelet, spectrum, ratio in zip(\n",
    "        bank.wavelets, bank.spectra, bank.ratios\n",
    "    ):\n",
    "\n",
    "        # Time domain\n",
    "        ax[0].plot(bank.times, wavelet.real + ratio, \"C0\")\n",
    "\n",
    "        # Spectral domain (log of amplitude)\n",
    "        ax[1].plot(bank.frequencies, np.log(np.abs(spectrum) + 1) + ratio, \"C0\")\n",
    "\n",
    "    # Limit view to three times the temporal width of largest wavelet\n",
    "    width_max = 3 * bank.widths.max()\n",
    "\n",
    "    # Labels\n",
    "    ax[0].set_ylabel(\"Octaves (base 2 log)\")\n",
    "    ax[0].set_xlabel(\"Time (seconds)\")\n",
    "    ax[0].set_xlim(-width_max, width_max)\n",
    "    ax[0].grid()\n",
    "    ax[1].set_xscale(\"log\")\n",
    "    ax[1].set_xlabel(\"Frequency (Hz)\")\n",
    "    ax[1].grid()\n"
   ]
  },
  {
   "cell_type": "markdown",
   "id": "1732087e",
   "metadata": {},
   "source": [
    "Load seismograms"
   ]
  },
  {
   "cell_type": "code",
   "execution_count": null,
   "id": "0469e0dd",
   "metadata": {},
   "outputs": [],
   "source": [
    "\n",
    "client = Client(\"IRIS\")\n",
    "\n",
    "# Collect waveforms from the datacenter\n",
    "stream = client.get_waveforms(\n",
    "    network=\"YH\",\n",
    "    station=\"DC08\",\n",
    "    location=\"*\",\n",
    "    channel=\"*\",\n",
    "    starttime=obspy.UTCDateTime(\"2012-07-25T00:00\"),\n",
    "    endtime=obspy.UTCDateTime(\"2012-07-26T00:00\"),\n",
    ")\n",
    "\n",
    "stream.merge(method=1)\n",
    "stream.detrend(\"linear\")\n",
    "stream.filter(type=\"highpass\", freq=1.0)\n",
    "stream.plot(rasterized=True);\n",
    "\n",
    "stream.write(\"./example/scattering_stream.mseed\", format=\"MSEED\")"
   ]
  },
  {
   "cell_type": "markdown",
   "id": "e3cc0d19",
   "metadata": {},
   "source": [
    "Trim Seismograms"
   ]
  },
  {
   "cell_type": "code",
   "execution_count": null,
   "id": "0c554f87",
   "metadata": {},
   "outputs": [],
   "source": [
    "# Extract segment length (from any layer)\n",
    "segment_duration = network.bins / network.sampling_rate\n",
    "overlap = 0.5\n",
    "\n",
    "# Gather list for timestamps and segments\n",
    "timestamps = list()\n",
    "segments = list()\n",
    "\n",
    "# Collect data and timestamps\n",
    "for traces in stream.slide(segment_duration, segment_duration * overlap):\n",
    "    timestamps.append(mdates.num2date(traces[0].times(type=\"matplotlib\")[0]))\n",
    "    segments.append(np.array([trace.data[:-1] for trace in traces]))"
   ]
  },
  {
   "cell_type": "markdown",
   "id": "202b1bcc",
   "metadata": {},
   "source": [
    "Scattering transform"
   ]
  },
  {
   "cell_type": "code",
   "execution_count": null,
   "id": "c5a45c4e",
   "metadata": {},
   "outputs": [],
   "source": [
    "scattering_coefficients = network.transform(segments, reduce_type=np.max)"
   ]
  },
  {
   "cell_type": "code",
   "execution_count": null,
   "id": "bed8613b",
   "metadata": {},
   "outputs": [],
   "source": [
    "# Save the features in a pickle file\n",
    "np.savez(\n",
    "    \"./example/scattering_coefficients.npz\",\n",
    "    order_1=scattering_coefficients[0],\n",
    "    order_2=scattering_coefficients[1],\n",
    "    times=timestamps,\n",
    ")"
   ]
  },
  {
   "cell_type": "markdown",
   "id": "461742d8",
   "metadata": {},
   "source": [
    "observe the results"
   ]
  },
  {
   "cell_type": "code",
   "execution_count": null,
   "id": "89d43455",
   "metadata": {},
   "outputs": [],
   "source": [
    "# Extract the first channel\n",
    "channel_id = 0\n",
    "trace = stream[channel_id]\n",
    "order_1 = np.log10(scattering_coefficients[0][:, channel_id, :].squeeze())\n",
    "center_frequencies = network.banks[0].centers\n",
    "\n",
    "# Create figure and axes\n",
    "fig, ax = plt.subplots(2, sharex=True, dpi=300)\n",
    "\n",
    "# Plot the waveform\n",
    "ax[0].plot(trace.times(\"matplotlib\"), trace.data, rasterized=True, lw=0.5)\n",
    "\n",
    "# First-order scattering coefficients\n",
    "ax[1].pcolormesh(timestamps, center_frequencies, order_1.T, rasterized=True)\n",
    "\n",
    "# Axes labels\n",
    "ax[1].set_yscale(\"log\")\n",
    "ax[0].set_ylabel(\"Counts\")\n",
    "ax[1].set_ylabel(\"Frequency (Hz)\")\n",
    "\n",
    "# Show\n",
    "plt.show()"
   ]
  },
  {
   "cell_type": "code",
   "execution_count": null,
   "id": "672225e4",
   "metadata": {},
   "outputs": [],
   "source": [
    "# Reshape and stack scattering coefficients of all orders\n",
    "order_1 = order_1.reshape(order_1.shape[0], -1)\n",
    "order_2 = order_2.reshape(order_2.shape[0], -1)\n",
    "scattering_coefficients = np.hstack((order_1, order_2))\n",
    "\n",
    "# transform into log\n",
    "scattering_coefficients = np.log(scattering_coefficients)\n",
    "\n",
    "# print info about shape\n",
    "n_times, n_coeff = scattering_coefficients.shape\n",
    "print(\"Collected {} samples of {} dimensions each.\".format(n_times, n_coeff))\n"
   ]
  },
  {
   "cell_type": "markdown",
   "id": "0556b256",
   "metadata": {},
   "source": [
    "## Dimensionality reduction\n",
    "\n",
    "This tutorial uses FastICA for the dimensionality reduction, but we can try other things"
   ]
  },
  {
   "cell_type": "code",
   "execution_count": null,
   "id": "3f2af519",
   "metadata": {},
   "outputs": [],
   "source": [
    "model = FastICA(n_components=10, whiten=\"unit-variance\", random_state=42)\n",
    "features = model.fit_transform(scattering_coefficients)\n"
   ]
  },
  {
   "cell_type": "code",
   "execution_count": null,
   "id": "87c157ef",
   "metadata": {},
   "outputs": [],
   "source": [
    "# Save the features\n",
    "np.savez(\n",
    "    \"./example/independent_components.npz\",\n",
    "    features=features,\n",
    "    times=times,\n",
    ")\n",
    "\n",
    "# Save the dimension reduction model\n",
    "with open(\"./example/dimension_model.pickle\", \"wb\") as pickle_file:\n",
    "    pickle.dump(\n",
    "        model,\n",
    "        pickle_file,\n",
    "        protocol=pickle.HIGHEST_PROTOCOL,\n",
    "    )"
   ]
  },
  {
   "cell_type": "markdown",
   "id": "341e82c3",
   "metadata": {},
   "source": [
    "Plots the features"
   ]
  },
  {
   "cell_type": "code",
   "execution_count": 2,
   "id": "6757dfd5",
   "metadata": {},
   "outputs": [
    {
     "ename": "NameError",
     "evalue": "name 'features' is not defined",
     "output_type": "error",
     "traceback": [
      "\u001b[0;31m---------------------------------------------------------------------------\u001b[0m",
      "\u001b[0;31mNameError\u001b[0m                                 Traceback (most recent call last)",
      "Cell \u001b[0;32mIn[2], line 2\u001b[0m\n\u001b[1;32m      1\u001b[0m \u001b[38;5;66;03m# Normalize features for display\u001b[39;00m\n\u001b[0;32m----> 2\u001b[0m features_normalized \u001b[38;5;241m=\u001b[39m \u001b[43mfeatures\u001b[49m \u001b[38;5;241m/\u001b[39m np\u001b[38;5;241m.\u001b[39mabs(features)\u001b[38;5;241m.\u001b[39mmax(axis\u001b[38;5;241m=\u001b[39m\u001b[38;5;241m0\u001b[39m)\n\u001b[1;32m      4\u001b[0m \u001b[38;5;66;03m# Figure instance\u001b[39;00m\n\u001b[1;32m      5\u001b[0m fig \u001b[38;5;241m=\u001b[39m plt\u001b[38;5;241m.\u001b[39mfigure(dpi\u001b[38;5;241m=\u001b[39m\u001b[38;5;241m200\u001b[39m)\n",
      "\u001b[0;31mNameError\u001b[0m: name 'features' is not defined"
     ]
    }
   ],
   "source": [
    "# Normalize features for display\n",
    "features_normalized = features / np.abs(features).max(axis=0)\n",
    "\n",
    "# Figure instance\n",
    "fig = plt.figure(dpi=200)\n",
    "ax = plt.axes()\n",
    "\n",
    "# Plot features\n",
    "ax.plot(times, features_normalized + np.arange(features.shape[1]), rasterized=True)\n",
    "\n",
    "# Labels\n",
    "ax.set_ylabel(\"Feature index\")\n",
    "ax.set_xlabel(\"Date and time\")\n",
    "\n",
    "# Show\n",
    "plt.show()"
   ]
  }
 ],
 "metadata": {
  "@webio": {
   "lastCommId": null,
   "lastKernelId": null
  },
  "kernelspec": {
   "display_name": "scatnetseis",
   "language": "python",
   "name": "scatnetseis"
  },
  "language_info": {
   "codemirror_mode": {
    "name": "ipython",
    "version": 3
   },
   "file_extension": ".py",
   "mimetype": "text/x-python",
   "name": "python",
   "nbconvert_exporter": "python",
   "pygments_lexer": "ipython3",
   "version": "3.8.16"
  }
 },
 "nbformat": 4,
 "nbformat_minor": 5
}
